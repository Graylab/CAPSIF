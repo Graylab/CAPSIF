{
 "cells": [
  {
   "cell_type": "markdown",
   "id": "90f3b4ea-207f-4024-aa4b-61e090f1830c",
   "metadata": {},
   "source": [
    "# CAPSIF Prediction on a directory #\n",
    "\n",
    "### Input your directories below - same as seen in `predict_directory.py` ###\n",
    "### Results outputted to __`[out_dir]/*.pdb`__ with predictions and the file __`[out_dir]/capsif_predictions.txt`__ ###\n",
    "\n",
    "## Current settings for B Factor visualization: ##\n",
    "#### `BFactor =  0.0` : Nonbinder ####\n",
    "#### `BFactor = 40.0` : CAPSIF:G Predicted Binder ####\n",
    "#### `BFactor = 59.9` : CAPSIF:V Predicted Binder ####\n",
    "#### `BFactor = 99.9` : CAPSIF:V and CAPSIF:G Predicted Binder ####"
   ]
  },
  {
   "cell_type": "markdown",
   "id": "78aa862f-247c-42bd-83f0-82efef739423",
   "metadata": {},
   "source": [
    "## Changeable Parameters ##\n",
    "\n",
    "`input_dir` - input directory of pdbs for prediction\n",
    "\n",
    "`out_dir` - output directory of predictions\n",
    "\n",
    "`graph_model_dir` - graph model of choice\n",
    "\n",
    "`voxel_model_dir` - voxel model of choice\n",
    "\n",
    "`make_pdb` - whether or not to output the pdb's for visualization"
   ]
  },
  {
   "cell_type": "markdown",
   "id": "97890d32-89b7-4f15-8571-c3dfb1b86133",
   "metadata": {},
   "source": [
    "## Change the input values then RUN ALL to get your results!!! ##"
   ]
  },
  {
   "cell_type": "code",
   "execution_count": 1,
   "id": "bfa67bb4-131e-4fe4-aae2-3303643f62a2",
   "metadata": {
    "tags": []
   },
   "outputs": [],
   "source": [
    "input_dir = \"./sample_dir/\" #Enter input directory here\n",
    "out_dir = \"./sample_dir/output/\" #If not using default graph model, input your graph model here\n",
    "graph_model_dir = \"./capsif_g/models_DL/cb_model.pth.tar\" #If not using default graph model, input your CAPSIF:G model here\n",
    "voxel_model_dir = \"./capsif_v/models_DL/my_checkpoint_best_36_2A_CACB_vector_coord_I_clean_data.pth.tar\" #If not using default CAPSIF:V model, input your graph model here\n",
    "make_pdb = True; #Output the files with the B factor as 99.99 for when bound"
   ]
  },
  {
   "cell_type": "markdown",
   "id": "1a246465-bdaf-49a0-b904-4c3ac94f2476",
   "metadata": {},
   "source": [
    "### Initialize Directories and libraries ###"
   ]
  },
  {
   "cell_type": "code",
   "execution_count": 2,
   "id": "2b907f52-5209-40bf-a57d-8376f72b6fde",
   "metadata": {},
   "outputs": [],
   "source": [
    "#Safety check with rerunning things to switch back to the native absolute path :)\n",
    "import os\n",
    "native_dir = os.path.abspath('.') + \"/\"\n",
    "input_dir = os.path.abspath(input_dir) + \"/\"\n",
    "out_dir = os.path.abspath(out_dir)\n",
    "graph_model_dir = os.path.abspath(graph_model_dir)\n",
    "voxel_model_dir = os.path.abspath(voxel_model_dir)"
   ]
  },
  {
   "cell_type": "code",
   "execution_count": 3,
   "id": "781af722-c2d3-4031-95be-312145069949",
   "metadata": {
    "tags": []
   },
   "outputs": [],
   "source": [
    "import sys\n",
    "\n",
    "os.chdir(native_dir)\n",
    "\n",
    "os.chdir(\"./capsif_v/\")\n",
    "#CAPSIF:V requirements\n",
    "sys.path.append(\"./capsif_v/\")\n",
    "from capsif_v.utils import xyz_to_rotate_to_voxelize_to_translate\n",
    "from capsif_v.prediction_utils import load_model as load_voxel_model, command_run\n",
    "from data_preparation.pdb_2_interaction_file_converter import pdb_to_interaction_file as capsif_v_pdb_preprocess\n",
    "os.chdir('../')\n",
    "sys.path.append('../')\n",
    "\n",
    "os.chdir(\"./capsif_g/\")\n",
    "sys.path.append(\"./capsif_g/\")\n",
    "from capsif_g.dataset import load_predictor_model as load_graph_model\n",
    "from notebook_library import download_pdb, predict_for_voxel as predict_voxel, visualize, preprocess_graph, predict_for_graph as predict_graph, output_structure_bfactor_biopython_BOTH as output_structure_bfactor\n",
    "os.chdir(\"../\")\n",
    "sys.path.append(\"../\")\n",
    "\n",
    "import numpy as np\n",
    "import time\n",
    "import torch\n",
    "\n",
    "\n",
    "#Directory information!\n",
    "input_dir = os.path.abspath(input_dir) + \"/\"\n",
    "out_dir = os.path.abspath(out_dir) + \"/\"\n"
   ]
  },
  {
   "cell_type": "markdown",
   "id": "3fe9dab2-30a3-4575-b955-90b05b995ba5",
   "metadata": {},
   "source": [
    "### Initialize Models ###"
   ]
  },
  {
   "cell_type": "code",
   "execution_count": 4,
   "id": "946528d3-7937-456f-ae16-abf0a4ed18cf",
   "metadata": {
    "tags": []
   },
   "outputs": [
    {
     "name": "stdout",
     "output_type": "stream",
     "text": [
      "Using /Users/scanner1/Downloads/capsif_repo/CAPSIF/capsif_v/models_DL/my_checkpoint_best_36_2A_CACB_vector_coord_I_clean_data.pth.tar\n",
      "=> Loading checkpoint\n",
      "CAPSIF:V Model load time:    1.2  seconds.\n",
      "\n",
      "CAPSIF:G Model load time:  0.035  seconds.\n"
     ]
    }
   ],
   "source": [
    "#Initialize Models\n",
    "\n",
    "#Run only on CAPSIF:V files\n",
    "# Initialize pdb into npz file for reading\n",
    "#if you fail to get outputs, feel free to mess around with the values :)\n",
    "pdb_npz_file_reader = xyz_to_rotate_to_voxelize_to_translate()\n",
    "pdb_npz_file_reader.max_rotation_plus_minus = 0\n",
    "pdb_npz_file_reader.max_pixel_translate_per_axis = 0\n",
    "pdb_npz_file_reader.use_res_index = 1\n",
    "pdb_npz_file_reader.layers_use = 29\n",
    "pdb_npz_file_reader.layer_29_type = 2\n",
    "pdb_npz_file_reader.cube_start_points = 1\n",
    "pdb_npz_file_reader.crop_extra_edge = 0\n",
    "pdb_npz_file_reader.cube_start_points = 1\n",
    "\n",
    "#load model\n",
    "os.chdir('capsif_v')\n",
    "start_time = time.time()\n",
    "model = load_voxel_model(2,2,dir=voxel_model_dir)\n",
    "model_time = time.time()\n",
    "print(\"CAPSIF:V Model load time: \",\"%5.1f \" % (model_time -start_time), \"seconds.\\n\")\n",
    "os.chdir(native_dir)\n",
    "\n",
    "#Initialize Graph\n",
    "start_time = time.time()\n",
    "graph_model = load_graph_model(graph_model_dir)\n",
    "model_time = time.time()\n",
    "print(\"CAPSIF:G Model load time: \",\"%5.3f \" % (model_time -start_time), \"seconds.\")"
   ]
  },
  {
   "cell_type": "markdown",
   "id": "a8f44964-e0a9-4fb8-9678-9ff1b373deb8",
   "metadata": {},
   "source": [
    "## Run Prediction ##"
   ]
  },
  {
   "cell_type": "code",
   "execution_count": 5,
   "id": "1f6870df-7548-4353-979a-bdfe95f64cd5",
   "metadata": {
    "tags": []
   },
   "outputs": [
    {
     "name": "stdout",
     "output_type": "stream",
     "text": [
      "Currently treating: 4EXK_1_AF.pdb\n",
      "PyRosetta-4 2021 [Rosetta PyRosetta4.Release.python38.mac 2021.36+release.57ac713a6e1d8ce6f60269b3988b1adac1d96fc6 2021-09-10T13:50:04] retrieved from: http://www.pyrosetta.org\n",
      "(C) Copyright Rosetta Commons Member Institutions. Created in JHU by Sergey Lyskov and PyRosetta Team.\n",
      "PyRosetta-4 2021 [Rosetta PyRosetta4.Release.python38.mac 2021.36+release.57ac713a6e1d8ce6f60269b3988b1adac1d96fc6 2021-09-10T13:50:04] retrieved from: http://www.pyrosetta.org\n",
      "(C) Copyright Rosetta Commons Member Institutions. Created in JHU by Sergey Lyskov and PyRosetta Team.\n",
      "Currently treating: 3W26.pdb\n",
      "PyRosetta-4 2021 [Rosetta PyRosetta4.Release.python38.mac 2021.36+release.57ac713a6e1d8ce6f60269b3988b1adac1d96fc6 2021-09-10T13:50:04] retrieved from: http://www.pyrosetta.org\n",
      "(C) Copyright Rosetta Commons Member Institutions. Created in JHU by Sergey Lyskov and PyRosetta Team.\n",
      "PyRosetta-4 2021 [Rosetta PyRosetta4.Release.python38.mac 2021.36+release.57ac713a6e1d8ce6f60269b3988b1adac1d96fc6 2021-09-10T13:50:04] retrieved from: http://www.pyrosetta.org\n",
      "(C) Copyright Rosetta Commons Member Institutions. Created in JHU by Sergey Lyskov and PyRosetta Team.\n",
      "CAPSIF Predictions Finished!\n",
      "Outputted to: /Users/scanner1/Downloads/capsif_repo/CAPSIF/sample_dir/output/.txt\n"
     ]
    },
    {
     "name": "stderr",
     "output_type": "stream",
     "text": [
      "/Users/scanner1/opt/anaconda3/lib/python3.8/site-packages/Bio/PDB/StructureBuilder.py:89: PDBConstructionWarning: WARNING: Chain A is discontinuous at line 3014.\n",
      "  warnings.warn(\n"
     ]
    }
   ],
   "source": [
    "ls = os.listdir(input_dir);\n",
    "\n",
    "out_file = open(out_dir + 'capsif_predictions.txt','w+')\n",
    "out_file.write(\"PDB_Name,CAPSIF:V_predictions,CAPSIF:G_predictions\\n\")\n",
    "\n",
    "for pdb_file in ls:\n",
    "    if '.pdb' in pdb_file:\n",
    "        \n",
    "        os.chdir('capsif_v')\n",
    "        print('Currently treating: ' + pdb_file)\n",
    "                \n",
    "        f = capsif_v_pdb_preprocess( input_dir + pdb_file, input_dir,\n",
    "                                            0, verbose=0,\n",
    "                                            use_glycan=1)\n",
    "        f.carb_aa_distance_calc_and_save = 1\n",
    "        f.save_data =0\n",
    "        s,x = f.run_me()\n",
    "\n",
    "        if len(x) <= 1:\n",
    "            if len(x) == 0:\n",
    "                print(\"Can not read pdb file! Not a protein data.\")\n",
    "\n",
    "            if x[0] == -1:\n",
    "                print(\"PyRosetta could not read glycan!\")\n",
    "                print(\"Check PDB file (ring glycan, clashes etc.)!\")\n",
    "                print(\"or use restart the code and run 'load_glycan_off' flag. Dice will be 0\")\n",
    "\n",
    "        #CAPSIF:V Predictions\n",
    "        proteins,masks = pdb_npz_file_reader.apply(x,s)\n",
    "        d,voxel_res,py_com,pred_vox=predict_voxel(torch.from_numpy(proteins), torch.from_numpy(masks), model,  2 ,save_npz=0)\n",
    "        os.chdir(native_dir)\n",
    "        \n",
    "        #CAPSIF:G Predictions\n",
    "        os.chdir('capsif_g/')\n",
    "        graph_dice, graph_results, graph_res = predict_graph(input_dir + pdb_file,model=graph_model)\n",
    "        os.chdir(native_dir)\n",
    "        \n",
    "\n",
    "        if make_pdb :\n",
    "            output_structure_bfactor(in_file=input_dir + pdb_file,res_v=voxel_res,res_g=graph_res,out_file=out_dir + pdb_file[:pdb_file.index('.')] + \"_predictions.pdb\")\n",
    "        \n",
    "        out_file.write(pdb_file + \" : \" + voxel_res + '\\n')\n",
    "\n",
    "out_file.close()\n",
    "\n",
    "print(\"CAPSIF Predictions Finished!\")\n",
    "print(\"Outputted to: \" + out_dir + \".txt\")"
   ]
  },
  {
   "cell_type": "code",
   "execution_count": null,
   "id": "c41777f1",
   "metadata": {
    "scrolled": true
   },
   "outputs": [],
   "source": []
  },
  {
   "cell_type": "code",
   "execution_count": null,
   "id": "8bf2101e",
   "metadata": {},
   "outputs": [],
   "source": []
  }
 ],
 "metadata": {
  "kernelspec": {
   "display_name": "Python 3",
   "language": "python",
   "name": "python3"
  },
  "language_info": {
   "codemirror_mode": {
    "name": "ipython",
    "version": 3
   },
   "file_extension": ".py",
   "mimetype": "text/x-python",
   "name": "python",
   "nbconvert_exporter": "python",
   "pygments_lexer": "ipython3",
   "version": "3.8.8"
  },
  "toc-showmarkdowntxt": false
 },
 "nbformat": 4,
 "nbformat_minor": 5
}
